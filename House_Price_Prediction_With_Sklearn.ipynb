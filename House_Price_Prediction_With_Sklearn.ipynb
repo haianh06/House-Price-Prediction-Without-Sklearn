{
 "cells": [
  {
   "cell_type": "code",
   "execution_count": null,
   "id": "8ae9ac70",
   "metadata": {},
   "outputs": [],
   "source": [
    "import numpy as np\n",
    "import pandas as pd\n",
    "import optuna\n",
    "import matplotlib.pyplot as plt\n",
    "import seaborn as sns\n",
    "from sklearn.metrics import r2_score, mean_squared_error, mean_absolute_error\n",
    "from sklearn.linear_model import LinearRegression, Ridge\n",
    "from sklearn.preprocessing import PolynomialFeatures, StandardScaler\n",
    "from sklearn.pipeline import Pipeline\n",
    "from sklearn.model_selection import cross_val_score, train_test_split, cross_val_predict"
   ]
  },
  {
   "cell_type": "markdown",
   "id": "ac98b83c",
   "metadata": {},
   "source": [
    "#### Laod Data"
   ]
  },
  {
   "cell_type": "code",
   "execution_count": null,
   "id": "5ef64389",
   "metadata": {},
   "outputs": [],
   "source": [
    "df = pd.read_csv(\"House-Price.csv\")\n",
    "\n",
    "print(\"📊 Dataset Info:\")\n",
    "print(df.info())\n",
    "print(df.head())"
   ]
  },
  {
   "cell_type": "markdown",
   "id": "3f5b0c30",
   "metadata": {},
   "source": [
    "#### EDA"
   ]
  },
  {
   "cell_type": "code",
   "execution_count": null,
   "id": "229ffd78",
   "metadata": {},
   "outputs": [],
   "source": [
    "numeric_df = df.select_dtypes(include='number')\n",
    "\n",
    "plt.figure(figsize=(12, 10))\n",
    "sns.heatmap(numeric_df.corr(), annot=True, cmap='coolwarm', linewidths=0.5)\n",
    "plt.title(\"Heatmap - Correlation Between Numeric Features in House Price Data\")\n",
    "plt.show()\n",
    "\n",
    "# Feature Selection\n",
    "features = [\"bedrooms\", \"bathrooms\", \"sqft_living\", \"sqft_above\", \"floors\"]\n",
    "X = df[features].values\n",
    "y = df[\"price\"].values"
   ]
  },
  {
   "cell_type": "markdown",
   "id": "b6182ed0",
   "metadata": {},
   "source": [
    "#### Visualization"
   ]
  },
  {
   "cell_type": "code",
   "execution_count": null,
   "id": "5d831afa",
   "metadata": {},
   "outputs": [],
   "source": [
    "for i, feat in enumerate(features):\n",
    "    plt.scatter(X[:, i], y, alpha=0.5)\n",
    "    plt.xlabel(feat)\n",
    "    plt.ylabel(\"Price\")\n",
    "    plt.title(f\"Price vs {feat}\")\n",
    "    plt.show()"
   ]
  },
  {
   "cell_type": "markdown",
   "id": "759fa54c",
   "metadata": {},
   "source": [
    "#### Train/Test Split"
   ]
  },
  {
   "cell_type": "code",
   "execution_count": null,
   "id": "09635a37",
   "metadata": {},
   "outputs": [],
   "source": [
    "X_train, X_test, y_train, y_test = train_test_split(\n",
    "    X, y, test_size=0.2, random_state=42\n",
    ")\n",
    "print(f\"Train: {X_train.shape}, Test: {X_test.shape}\")"
   ]
  },
  {
   "cell_type": "markdown",
   "id": "586dfda8",
   "metadata": {},
   "source": [
    "##### Evaluation"
   ]
  },
  {
   "cell_type": "code",
   "execution_count": null,
   "id": "b1207fef",
   "metadata": {},
   "outputs": [],
   "source": [
    "def evaluate_model(model, X_train, y_train, X_test, y_test, name=\"Model\"):\n",
    "    y_train_pred = model.predict(X_train)\n",
    "    y_test_pred = model.predict(X_test)\n",
    "\n",
    "    metrics = {\n",
    "        \"Train RMSE\": np.sqrt(mean_squared_error(y_train, y_train_pred)),\n",
    "        \"Test RMSE\": np.sqrt(mean_squared_error(y_test, y_test_pred)),\n",
    "        \"Train MAE\": mean_absolute_error(y_train, y_train_pred),\n",
    "        \"Test MAE\": mean_absolute_error(y_test, y_test_pred),\n",
    "        \"Train R²\": r2_score(y_train, y_train_pred),\n",
    "        \"Test R²\": r2_score(y_test, y_test_pred),\n",
    "    }\n",
    "\n",
    "    print(f\"\\n📊 {name} Evaluation:\")\n",
    "    for k, v in metrics.items():\n",
    "        print(f\"{k}: {v:.4f}\")\n",
    "\n",
    "    # Plot\n",
    "    plt.figure(figsize=(6,6))\n",
    "    plt.scatter(y_test, y_test_pred, alpha=0.6, color='blue')\n",
    "    plt.plot([min(y_test), max(y_test)], [min(y_test), max(y_test)], 'r--')\n",
    "    plt.xlabel(\"Actual Price\")\n",
    "    plt.ylabel(\"Predicted Price\")\n",
    "    plt.title(f\"Actual vs Predicted - {name}\")\n",
    "    plt.show()\n",
    "\n",
    "    return metrics"
   ]
  },
  {
   "cell_type": "markdown",
   "id": "372b2bd6",
   "metadata": {},
   "source": [
    "##### Fit Model"
   ]
  },
  {
   "cell_type": "code",
   "execution_count": null,
   "id": "dc86ff86",
   "metadata": {},
   "outputs": [],
   "source": [
    "lr = LinearRegression()\n",
    "lr.fit(X_train, y_train)\n",
    "metrics_lr = evaluate_model(lr, X_train, y_train, X_test, y_test, \"Linear Regression\")"
   ]
  },
  {
   "cell_type": "code",
   "execution_count": null,
   "id": "4c46ae0e",
   "metadata": {},
   "outputs": [],
   "source": [
    "ridge = Ridge(alpha=1.0)\n",
    "ridge.fit(X_train, y_train)\n",
    "metrics_ridge = evaluate_model(ridge, X_train, y_train, X_test, y_test, \"Ridge Regression\")"
   ]
  },
  {
   "cell_type": "markdown",
   "id": "28d650f5",
   "metadata": {},
   "source": [
    "##### Optuna to find hyperparameter"
   ]
  },
  {
   "cell_type": "code",
   "execution_count": null,
   "id": "e7450c46",
   "metadata": {},
   "outputs": [],
   "source": [
    "def objective(trial):\n",
    "    degree = trial.suggest_int(\"degree\", 1, 5)\n",
    "    alpha = trial.suggest_float(\"alpha\", 1e-4, 10.0, log=True)\n",
    "\n",
    "    model = Pipeline([\n",
    "        (\"poly\", PolynomialFeatures(degree=degree, include_bias=False)),\n",
    "        (\"scaler\", StandardScaler()),\n",
    "        (\"reg\", Ridge(alpha=alpha))\n",
    "    ])\n",
    "\n",
    "    score = cross_val_score(model, X_train, y_train, cv=5, scoring='neg_mean_squared_error')\n",
    "    return -score.mean()\n",
    "\n",
    "study = optuna.create_study(direction=\"minimize\")\n",
    "study.optimize(objective, n_trials=50)\n",
    "\n",
    "print(\"\\n🏆 Best Params:\", study.best_params)\n",
    "print(\"Best CV MSE:\", study.best_value)"
   ]
  },
  {
   "cell_type": "code",
   "execution_count": null,
   "id": "85d3f1c2",
   "metadata": {},
   "outputs": [],
   "source": [
    "best_params = study.best_params\n",
    "best_model = Pipeline([\n",
    "    (\"poly\", PolynomialFeatures(degree=best_params[\"degree\"], include_bias=False)),\n",
    "    (\"scaler\", StandardScaler()),\n",
    "    (\"reg\", Ridge(alpha=best_params[\"alpha\"]))\n",
    "])"
   ]
  },
  {
   "cell_type": "code",
   "execution_count": null,
   "id": "b736b8cc",
   "metadata": {},
   "outputs": [],
   "source": [
    "best_model.fit(X_train, y_train)\n",
    "metrics_best = evaluate_model(best_model, X_train, y_train, X_test, y_test,\n",
    "                              f\"Ridge Poly (deg={best_params['degree']}, alpha={best_params['alpha']:.4f})\")\n"
   ]
  }
 ],
 "metadata": {
  "kernelspec": {
   "display_name": "base",
   "language": "python",
   "name": "python3"
  },
  "language_info": {
   "codemirror_mode": {
    "name": "ipython",
    "version": 3
   },
   "file_extension": ".py",
   "mimetype": "text/x-python",
   "name": "python",
   "nbconvert_exporter": "python",
   "pygments_lexer": "ipython3",
   "version": "3.12.7"
  }
 },
 "nbformat": 4,
 "nbformat_minor": 5
}
